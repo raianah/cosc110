{
 "cells": [
  {
   "cell_type": "markdown",
   "id": "epXjlyn6ZAlm",
   "metadata": {
    "id": "epXjlyn6ZAlm"
   },
   "source": [
    "# Exploring Calculus with SymPy\n",
    "\n",
    "## Activity Instructions\n",
    "This activity is designed to help you explore how Python can be used to understand basic ideas in calculus — without needing to do any complex math.\n",
    "\n",
    "Use the Python code snippets provided to experiment and answer the questions."
   ]
  },
  {
   "cell_type": "code",
   "execution_count": null,
   "id": "vZ0V7WGLXr9O",
   "metadata": {
    "id": "vZ0V7WGLXr9O"
   },
   "outputs": [],
   "source": [
    "from sympy import *"
   ]
  },
  {
   "cell_type": "markdown",
   "id": "RPFHhyHsYhGm",
   "metadata": {
    "id": "RPFHhyHsYhGm"
   },
   "source": [
    "---\n",
    "## Playing with Symbols\n",
    "\n",
    "Try running this code:"
   ]
  },
  {
   "cell_type": "code",
   "execution_count": null,
   "id": "A92JlyDyYixm",
   "metadata": {
    "id": "A92JlyDyYixm"
   },
   "outputs": [
    {
     "data": {
      "text/latex": [
       "$\\displaystyle 2 x$"
      ],
      "text/plain": [
       "2*x"
      ]
     },
     "execution_count": 2,
     "metadata": {},
     "output_type": "execute_result"
    }
   ],
   "source": [
    "x = symbols('x')\n",
    "x + x"
   ]
  },
  {
   "cell_type": "markdown",
   "id": "PX2gRq34YloO",
   "metadata": {
    "id": "PX2gRq34YloO"
   },
   "source": [
    "**1. What do you think 'x + x' means?** (Answers below):\n",
    "\n",
    "Answer: 2x. It represents addition of hidden coefficients, or in this case, addition of two x's with 1 in their value."
   ]
  },
  {
   "cell_type": "markdown",
   "id": "yVF3ZEOoYwZe",
   "metadata": {
    "id": "yVF3ZEOoYwZe"
   },
   "source": [
    "Now try this:"
   ]
  },
  {
   "cell_type": "code",
   "execution_count": 3,
   "id": "bxUoWvBmYulL",
   "metadata": {
    "id": "bxUoWvBmYulL"
   },
   "outputs": [
    {
     "data": {
      "text/latex": [
       "$\\displaystyle x^{2}$"
      ],
      "text/plain": [
       "x**2"
      ]
     },
     "execution_count": 3,
     "metadata": {},
     "output_type": "execute_result"
    }
   ],
   "source": [
    "x * x"
   ]
  },
  {
   "cell_type": "markdown",
   "id": "WTpPkyAlY1p1",
   "metadata": {
    "id": "WTpPkyAlY1p1"
   },
   "source": [
    "**2. What does `x * x` represent?** (Answers below):   \n",
    "\n",
    "Answer: x**2. It represents multiplying two variables which adds the hidden exponent of the variable. In this case, the value of two x's are 1."
   ]
  },
  {
   "cell_type": "markdown",
   "id": "QiSJjx_VHq1p",
   "metadata": {
    "id": "QiSJjx_VHq1p"
   },
   "source": [
    "---\n",
    "## Exploring Limits\n",
    "\n",
    "Try this code:"
   ]
  },
  {
   "cell_type": "code",
   "execution_count": null,
   "id": "7JRyFVohH7UO",
   "metadata": {
    "id": "7JRyFVohH7UO"
   },
   "outputs": [
    {
     "data": {
      "text/latex": [
       "$\\displaystyle 1$"
      ],
      "text/plain": [
       "1"
      ]
     },
     "execution_count": 4,
     "metadata": {},
     "output_type": "execute_result"
    }
   ],
   "source": [
    "limit(sin(x)/x, x, 0)"
   ]
  },
  {
   "cell_type": "markdown",
   "id": "ywTipXNaH5VC",
   "metadata": {
    "id": "ywTipXNaH5VC"
   },
   "source": [
    "**3. What result do you get? What do you think it means?** (Answers below)\n",
    "\n",
    "Answer: 1. The limit indicates that as $x$ approaches zero, $\\sin(x)$ closely approximates $x$, highlighting the fundamental relationship between the sine function and small angles as the sine function is continuous and smooth at $x = 0$."
   ]
  },
  {
   "cell_type": "markdown",
   "id": "_0bSbQm5IPe3",
   "metadata": {
    "id": "_0bSbQm5IPe3"
   },
   "source": [
    "---\n",
    "## Playing with Derivatives\n",
    "\n",
    "Run this:"
   ]
  },
  {
   "cell_type": "code",
   "execution_count": null,
   "id": "ODeV9TfcISxy",
   "metadata": {
    "id": "ODeV9TfcISxy"
   },
   "outputs": [
    {
     "data": {
      "text/latex": [
       "$\\displaystyle 2 x$"
      ],
      "text/plain": [
       "2*x"
      ]
     },
     "execution_count": 5,
     "metadata": {},
     "output_type": "execute_result"
    }
   ],
   "source": [
    "diff(x**2, x)"
   ]
  },
  {
   "cell_type": "markdown",
   "id": "zkB8nUcCIVWK",
   "metadata": {
    "id": "zkB8nUcCIVWK"
   },
   "source": [
    "**4. What is the output? Can you describe what it tells you?** (Answers below)\n",
    "\n",
    "Answer: 2x. The derivative indicates the rate of change of the function at any point. It tells you how steep the curve is at that point."
   ]
  },
  {
   "cell_type": "markdown",
   "id": "MuBEwsMjHvaE",
   "metadata": {
    "id": "MuBEwsMjHvaE"
   },
   "source": [
    "---\n",
    "\n",
    "## 4. Series Expansion\n",
    "\n",
    "Run this code:"
   ]
  },
  {
   "cell_type": "code",
   "execution_count": null,
   "id": "cfjBnBRDI_zz",
   "metadata": {
    "id": "cfjBnBRDI_zz"
   },
   "outputs": [
    {
     "data": {
      "text/latex": [
       "$\\displaystyle 1 + x + \\frac{x^{2}}{2} + \\frac{x^{3}}{6} + O\\left(x^{4}\\right)$"
      ],
      "text/plain": [
       "1 + x + x**2/2 + x**3/6 + O(x**4)"
      ]
     },
     "execution_count": 6,
     "metadata": {},
     "output_type": "execute_result"
    }
   ],
   "source": [
    "exp(x).series(x, 0, 4)"
   ]
  },
  {
   "cell_type": "markdown",
   "id": "v_kHGdQlJDn0",
   "metadata": {
    "id": "v_kHGdQlJDn0"
   },
   "source": [
    "**5. What do you see? How many terms are shown in the result?**  (Answers below)\n",
    "\n",
    "Answer: $\\displaystyle 1 + x + \\frac{x^{2}}{2} + \\frac{x^{3}}{6} + O\\left(x^{4}\\right)$. There are 4 terms shown in the equation."
   ]
  },
  {
   "cell_type": "markdown",
   "id": "o89x7hPEJSzC",
   "metadata": {
    "id": "o89x7hPEJSzC"
   },
   "source": [
    "---\n",
    "\n",
    "## 5. Solving Equations\n",
    "\n",
    "Try solving this equation:"
   ]
  },
  {
   "cell_type": "code",
   "execution_count": null,
   "id": "nZRx2-FMJVU4",
   "metadata": {
    "id": "nZRx2-FMJVU4"
   },
   "outputs": [
    {
     "data": {
      "text/plain": [
       "[-2, 2]"
      ]
     },
     "execution_count": 7,
     "metadata": {},
     "output_type": "execute_result"
    }
   ],
   "source": [
    "solve(Eq(x**2 - 4, 0), x)"
   ]
  },
  {
   "cell_type": "markdown",
   "id": "BpwkEmDWJZyS",
   "metadata": {
    "id": "BpwkEmDWJZyS"
   },
   "source": [
    "**6. What are the answers?** (Answer below)  \n",
    "\n",
    "Answer: [-2, 2]"
   ]
  },
  {
   "cell_type": "markdown",
   "id": "27ZbZbLIJgzK",
   "metadata": {
    "id": "27ZbZbLIJgzK"
   },
   "source": [
    "**7. What kind of problem do you think this is?** (Answer below)\n",
    "\n",
    "Answer: The equation $ x^2 - 4 = 0 $ is a quadratic equation. The answer $[-2, 2]$ indicates the values of $x$ where the equation holds true."
   ]
  },
  {
   "cell_type": "markdown",
   "id": "OuURTQQuXTgj",
   "metadata": {
    "id": "OuURTQQuXTgj"
   },
   "source": [
    "---\n",
    "\n",
    "## 6. Final Thoughts\n",
    "\n",
    "**8. What was your favorite part of this activity?** (Answer below)\n",
    "\n",
    "Answer: Solving equations. Having this type of programmatical feature in a programming language makes complex math applications simpler. Combined with data visualization libraries like pandas and introduction of pytorch, machine learnings that can answer complex equations will be much easier to produce.\n",
    "\n"
   ]
  },
  {
   "cell_type": "markdown",
   "id": "CkwbgwxSJu8g",
   "metadata": {
    "id": "CkwbgwxSJu8g"
   },
   "source": [
    "**9. What was something new or surprising you learned?**  (Answer below)\n",
    "\n",
    "Answer: The usage of big O notation in the series expansion. I never thought that the big O was used in this scenario and only used to gather time and space complexity."
   ]
  }
 ],
 "metadata": {
  "colab": {
   "provenance": []
  },
  "kernelspec": {
   "display_name": "Python 3",
   "language": "python",
   "name": "python3"
  },
  "language_info": {
   "codemirror_mode": {
    "name": "ipython",
    "version": 3
   },
   "file_extension": ".py",
   "mimetype": "text/x-python",
   "name": "python",
   "nbconvert_exporter": "python",
   "pygments_lexer": "ipython3",
   "version": "3.10.11"
  }
 },
 "nbformat": 4,
 "nbformat_minor": 5
}
