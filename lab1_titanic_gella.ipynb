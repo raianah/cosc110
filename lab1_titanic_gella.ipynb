{
  "nbformat": 4,
  "nbformat_minor": 0,
  "metadata": {
    "colab": {
      "provenance": []
    },
    "kernelspec": {
      "name": "python3",
      "display_name": "Python 3"
    },
    "language_info": {
      "name": "python"
    }
  },
  "cells": [
    {
      "cell_type": "markdown",
      "source": [
        "# Laboratory Activity Sample Output"
      ],
      "metadata": {
        "id": "c20qVSM3K7fO"
      }
    },
    {
      "cell_type": "code",
      "execution_count": null,
      "metadata": {
        "id": "4o_TuZo5EbDI"
      },
      "outputs": [],
      "source": [
        "import pandas as pd\n",
        "# Load the dataset\n",
        "df = pd.read_csv(\"titanic.csv\")\n",
        "# Display the first few rows\n",
        "df.head()\n",
        "\n",
        "# Checking null values\n",
        "df.isnull().sum()\n",
        "\n",
        "# Getting the average of the \"Survived\" column with age = null\n",
        "df[\"Survived\"].mean()\n",
        "\n",
        "# Getting the average of the \"Survived\" column without age = null\n",
        "df_cleaned = df.dropna(subset=[\"Age\"])\n",
        "df_cleaned[\"Survived\"].mean()\n",
        "\n",
        "import matplotlib.pyplot as plt\n",
        "# Plot age distribution of survivors vs. non-survivors\n",
        "plt.hist(df[df[\"Survived\"] == 1][\"Age\"].dropna(), bins=20, alpha=0.5, label=\"Survived\")\n",
        "plt.hist(df[df[\"Survived\"] == 0][\"Age\"].dropna(), bins=20, alpha=0.5, label=\"Did Not Survive\")\n",
        "plt.legend()\n",
        "plt.xlabel(\"Age\")\n",
        "plt.ylabel(\"Count\")\n",
        "plt.show()"
      ]
    },
    {
      "cell_type": "markdown",
      "source": [
        "## Up to this point, determine the underlying tasks needed to be done for loading and handling the data based on the steps described in this part? Write this as a text in your Colab notebook"
      ],
      "metadata": {
        "id": "uDrtgBxILCtV"
      }
    },
    {
      "cell_type": "code",
      "source": [
        "# This uses pandas library which uses the read_csv() method that uses \"titanic.csv\" as the file to navigate and change. Then, the head() method returns first few rows. By default, it is 5, but you can change the row display."
      ],
      "metadata": {
        "id": "2nKjNjH6LNW9"
      },
      "execution_count": null,
      "outputs": []
    },
    {
      "cell_type": "markdown",
      "source": [
        "## Using computation thinking, determine the blank values in the data. Write the algorithm as a text in your Google Colab\n",
        "- Which columns contain missing values? Should we remove or fill them?"
      ],
      "metadata": {
        "id": "l8jsHO8LLIxW"
      }
    },
    {
      "cell_type": "code",
      "source": [
        "# There are three null columns: Age, Cabin, and Embarked. The columns Cabin & Embarked can be filled with N/A values. However, the age column is difficult to provide N/A values. In conclusion, while the cabin & embarked can\n",
        "# be filled up, removing the null age columns is better than providing N/A that can hinder getting the mean value."
      ],
      "metadata": {
        "id": "hj_RgVktLNtS"
      },
      "execution_count": null,
      "outputs": []
    },
    {
      "cell_type": "markdown",
      "source": [
        "## Using computation thinking, determine the survival rate of all passengers in the dataset. Write the algorithm as a text in your Google Colab.\n",
        "- What can you deduce on the survival rate of the passengers?"
      ],
      "metadata": {
        "id": "5grrerYXLKKr"
      }
    },
    {
      "cell_type": "code",
      "source": [
        "# Based on the given dataset, there is 0.38% repeating percent of survival rate. On the other hand, if we removed the age columns being null, the survival rate becomes 0.40%."
      ],
      "metadata": {
        "id": "Eil0KWXQLOA8"
      },
      "execution_count": null,
      "outputs": []
    },
    {
      "cell_type": "markdown",
      "source": [
        "## Using computation thinking, determine the average age of the survivors and non-survivors in the dataset. Write the algorithm as a text in your Google Colab.\n",
        "- Does age impact survival? How?"
      ],
      "metadata": {
        "id": "Hoavb97cLLKX"
      }
    },
    {
      "cell_type": "code",
      "source": [
        "# Based on the graph, the ages 20-30 has the highest death than the elderly. It is because during the 1900s where ethics and morals are different from modern times, the elderly, pregnant women, and children are permitted to\n",
        "# embark the rafts provided by the ship. But due to overwhelming number of passengers and the number of rafts, it cannot cater all passengers, resulting in the deaths of young to adults."
      ],
      "metadata": {
        "id": "emHQDkAmLOcG"
      },
      "execution_count": null,
      "outputs": []
    }
  ]
}