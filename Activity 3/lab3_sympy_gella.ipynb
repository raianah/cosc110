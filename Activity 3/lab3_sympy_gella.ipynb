{
  "cells": [
    {
      "cell_type": "markdown",
      "metadata": {
        "id": "ry6k4qR8H7Bq"
      },
      "source": [
        "## Laboratory Activity #3: Introduction to SymPy\n",
        "\n",
        "### Objectives:\n",
        "- Apply basic symbolic calculations using SymPy"
      ]
    },
    {
      "cell_type": "markdown",
      "metadata": {
        "id": "G_Ua0LKbIPfK"
      },
      "source": [
        "#### Task # 1: Include all necessary sympy modules\n",
        "\n",
        "\n"
      ]
    },
    {
      "cell_type": "code",
      "execution_count": null,
      "metadata": {
        "id": "DPFz-qLYHiFJ"
      },
      "outputs": [],
      "source": [
        "import sympy"
      ]
    },
    {
      "cell_type": "markdown",
      "metadata": {
        "id": "3i4pd__LIl1X"
      },
      "source": [
        "#### Task # 2: Basic calculation\n",
        "Solve for the following:\n",
        "\n",
        "- $\\frac{5}{3} + \\frac{\\sqrt{10}}{2}$\n",
        "- $\\sqrt{50} \\times \\sqrt{\\frac{5}{9}}$"
      ]
    },
    {
      "cell_type": "code",
      "execution_count": null,
      "metadata": {
        "id": "Nk9U7XU8RhEH"
      },
      "outputs": [
        {
          "name": "stdout",
          "output_type": "stream",
          "text": [
            "[]\n"
          ]
        },
        {
          "data": {
            "text/plain": [
              "'Answer: sqrt(10)/2 + 5/3'"
            ]
          },
          "execution_count": 4,
          "metadata": {},
          "output_type": "execute_result"
        }
      ],
      "source": [
        "ra = sympy.Rational(5, 3)\n",
        "sqr = sympy.sqrt(10) / 2\n",
        "\n",
        "expr = sympy.solve(f\"{ra} + {sqr}\")\n",
        "print(expr)\n",
        "\n",
        "\"Answer: sqrt(10)/2 + 5/3\""
      ]
    },
    {
      "cell_type": "code",
      "execution_count": 13,
      "metadata": {
        "id": "6baME6J6Rgru"
      },
      "outputs": [
        {
          "name": "stdout",
          "output_type": "stream",
          "text": [
            "5*sqrt(10)/3\n"
          ]
        },
        {
          "data": {
            "text/plain": [
              "'Answer: 5*sqrt(10)/3'"
            ]
          },
          "execution_count": 13,
          "metadata": {},
          "output_type": "execute_result"
        }
      ],
      "source": [
        "sqr1 = sympy.sqrt(50)\n",
        "sqr2 = sympy.Rational(5, 9)\n",
        "sqra = sympy.sqrt(sqr2)\n",
        "\n",
        "expr = sqr1 * sqra\n",
        "print(expr)\n",
        "\n",
        "\"Answer: 5*sqrt(10)/3\""
      ]
    },
    {
      "cell_type": "markdown",
      "metadata": {
        "id": "UH2m4ur7NERn"
      },
      "source": [
        "#### Task # 3: Symbols\n",
        "Create the equation for the following using `Symbols`:\n",
        "- $2x+3y=12$\n",
        "- $x−y=4$"
      ]
    },
    {
      "cell_type": "code",
      "execution_count": null,
      "metadata": {
        "id": "4RUw45azRejM"
      },
      "outputs": [
        {
          "name": "stdout",
          "output_type": "stream",
          "text": [
            "Eq(2*x + 3*y, 12)\n"
          ]
        }
      ],
      "source": [
        "x, y = sympy.symbols('x y')\n",
        "\n",
        "eq = sympy.Eq(2*x + 3*y, 12)\n",
        "print(eq)\n",
        "\n",
        "\"Answer: Eq(2*x + 3*y, 12)\""
      ]
    },
    {
      "cell_type": "code",
      "execution_count": null,
      "metadata": {
        "id": "nKlN5AeURwI6"
      },
      "outputs": [
        {
          "name": "stdout",
          "output_type": "stream",
          "text": [
            "Eq(x - y, 4)\n"
          ]
        },
        {
          "data": {
            "text/plain": [
              "'Answer: Eq(x - y, 4)'"
            ]
          },
          "execution_count": 11,
          "metadata": {},
          "output_type": "execute_result"
        }
      ],
      "source": [
        "x, y = sympy.symbols('x y')\n",
        "\n",
        "eq = sympy.Eq(x - y, 4)\n",
        "print(eq)\n",
        "\n",
        "\"Answer: Eq(x - y, 4)\""
      ]
    },
    {
      "cell_type": "markdown",
      "metadata": {
        "id": "IS8vTb7FPDbQ"
      },
      "source": [
        "#### Task # 3: Simplification\n",
        "Simplify the following equations using the `simplify` method\n",
        "\n",
        "- $\\frac{x^2 + 2x + 1}{x + 1}$\n",
        "\n",
        "- $\\frac{1 - \\frac{1}{1 + \\frac{1}{x}}}{1 + \\frac{1}{x}}\n",
        "$"
      ]
    },
    {
      "cell_type": "code",
      "execution_count": null,
      "metadata": {
        "id": "38CFQlfxR0TV"
      },
      "outputs": [
        {
          "name": "stdout",
          "output_type": "stream",
          "text": [
            "x + 1\n"
          ]
        }
      ],
      "source": [
        "x = sympy.symbols('x')\n",
        "expr = (x**2 + 2*x + 1) / (x + 1)\n",
        "\n",
        "sim = sympy.simplify(expr)\n",
        "print(sim)\n",
        "\n",
        "\"Answer: x + 1\""
      ]
    },
    {
      "cell_type": "code",
      "execution_count": null,
      "metadata": {
        "id": "fSi0XQcWR2uo"
      },
      "outputs": [
        {
          "name": "stdout",
          "output_type": "stream",
          "text": [
            "x/(x + 1)**2\n"
          ]
        }
      ],
      "source": [
        "x = sympy.symbols('x')\n",
        "expr = (1 - 1/(1 + 1/x)) / (1 + 1/x)\n",
        "\n",
        "sim = sympy.simplify(expr)\n",
        "print(sim)"
      ]
    },
    {
      "cell_type": "markdown",
      "metadata": {
        "id": "oXI_LJ-hRR_n"
      },
      "source": [
        "### Task # 4: Expansion\n",
        "Expand the following expressions using the `expand` method\n",
        "- $(2x + 2)^2$\n",
        "- $(2x + y)(x - 2y)$\n"
      ]
    },
    {
      "cell_type": "code",
      "execution_count": null,
      "metadata": {
        "id": "OwjWp39uS0Jb"
      },
      "outputs": [
        {
          "name": "stdout",
          "output_type": "stream",
          "text": [
            "4*x**2 + 8*x + 4\n"
          ]
        },
        {
          "data": {
            "text/plain": [
              "'Answer: 4*x**2 + 8*x + 4'"
            ]
          },
          "execution_count": 16,
          "metadata": {},
          "output_type": "execute_result"
        }
      ],
      "source": [
        "x, y = sympy.symbols('x y')\n",
        "expr = (2*x + 2)**2\n",
        "\n",
        "expn = sympy.expand(expr)\n",
        "print(expn)\n",
        "\n",
        "\"Answer: 4*x**2 + 8*x + 4\""
      ]
    },
    {
      "cell_type": "code",
      "execution_count": null,
      "metadata": {
        "id": "g-QEmoMCS6TH"
      },
      "outputs": [
        {
          "name": "stdout",
          "output_type": "stream",
          "text": [
            "2*x**2 - 3*x*y - 2*y**2\n"
          ]
        },
        {
          "data": {
            "text/plain": [
              "'Answer: 2*x**2 - 4*x*y + y**2'"
            ]
          },
          "execution_count": 17,
          "metadata": {},
          "output_type": "execute_result"
        }
      ],
      "source": [
        "import sympy\n",
        "\n",
        "x, y = sympy.symbols('x y')\n",
        "expr = (2*x + y)*(x - 2*y)\n",
        "\n",
        "expn = sympy.expand(expr)\n",
        "print(expn)\n",
        "\n",
        "\"Answer: 2*x**2 - 3*x*y - 2*y**2\""
      ]
    }
  ],
  "metadata": {
    "colab": {
      "provenance": []
    },
    "kernelspec": {
      "display_name": "Python 3",
      "name": "python3"
    },
    "language_info": {
      "codemirror_mode": {
        "name": "ipython",
        "version": 3
      },
      "file_extension": ".py",
      "mimetype": "text/x-python",
      "name": "python",
      "nbconvert_exporter": "python",
      "pygments_lexer": "ipython3",
      "version": "3.10.11"
    }
  },
  "nbformat": 4,
  "nbformat_minor": 0
}
