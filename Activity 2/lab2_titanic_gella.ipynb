{
 "cells": [
  {
   "cell_type": "code",
   "execution_count": null,
   "metadata": {},
   "outputs": [],
   "source": [
    "\"\"\"MAIN ALGORITHM FOR CLEANING THE TITANIC DATASET\"\"\"\n",
    "\n",
    "\n",
    "import pandas as pd\n",
    "\n",
    "# Load the dataset\n",
    "df = pd.read_csv(\"titanic.csv\")\n",
    "\n",
    "# Check for duplicates\n",
    "# duplicate_count = df.duplicated().sum()\n",
    "\n",
    "# Remove duplicates\n",
    "df = df.drop_duplicates()\n",
    "\n",
    "# Fill Age column with median\n",
    "med_age = df[\"Age\"].median()\n",
    "df[\"Age\"] = df[\"Age\"].fillna(med_age)\n",
    "\n",
    "# Combine Parch & SibSp columns into a new column called FamSize\n",
    "df[\"FamSize\"] = df[\"Parch\"] + df[\"SibSp\"]\n",
    "\n",
    "# Re-categorize the sex column to \"M\" & \"F\" for easy reading\n",
    "df['Sex'] = df['Sex'].map({'male': 'M', 'female': 'F'})\n",
    "\n",
    "# Adding \"U\" for unknown for the Embarked column\n",
    "df[\"Embarked\"] = df[\"Embarked\"].fillna(\"U\")\n",
    "\n",
    "\n",
    "\n",
    "\n",
    "\"\"\"\n",
    "    There are 3 values in Embarked: S, C, Q which stands for Southampton, Cherbourg, & Queenstown.\n",
    "    Adding \"U\" for unknown for the Embarked column for those two missing values.\n",
    "\"\"\"\n",
    "\n",
    "\n",
    "\n",
    "# Dropping Cabin, Ticket, SibSp, Parch columns\n",
    "df = df.drop(columns=[\"Cabin\"])\n",
    "df = df.drop(columns=[\"Ticket\"])\n",
    "df = df.drop(columns=[\"SibSp\"])\n",
    "df = df.drop(columns=[\"Parch\"])\n",
    "\n",
    "df.head(10) # Display the first 10 rows of the dataframe"
   ]
  },
  {
   "cell_type": "code",
   "execution_count": null,
   "metadata": {},
   "outputs": [],
   "source": [
    "\"\"\"1ST DATA VISUALIZATION: NUMBER OF PASSENGERS FROM EMBARKED CITIES\"\"\"\n",
    "\n",
    "\n",
    "import matplotlib.pyplot as plt\n",
    "\n",
    "embarked_total = df['Embarked'].value_counts()\n",
    "\n",
    "plt.figure(figsize=(8, 5))\n",
    "plt.bar(embarked_total.index, embarked_total.values, color='skyblue')\n",
    "plt.title('Number of Passengers from Embarked Cities')\n",
    "plt.xlabel('Embarkation Point')\n",
    "plt.ylabel('Number of Passengers')\n",
    "plt.xticks(ticks=range(len(embarked_total.index)), labels=embarked_total.index)\n",
    "plt.show()"
   ]
  },
  {
   "cell_type": "code",
   "execution_count": 50,
   "metadata": {},
   "outputs": [
    {
     "data": {
      "image/png": "[encoded data removed]",
      "text/plain": [
       "<Figure size 1000x600 with 1 Axes>"
      ]
     },
     "metadata": {},
     "output_type": "display_data"
    }
   ],
   "source": [
    "\"\"\"2ND DATA VISUALIZATION: SURVIVAL RATE BY FAMILY SIZE\"\"\"\n",
    "\n",
    "\n",
    "import matplotlib.pyplot as plt\n",
    "\n",
    "family_survival_rate = df.groupby('FamSize')['Survived'].mean()\n",
    "\n",
    "plt.figure(figsize=(10, 6))\n",
    "plt.bar(family_survival_rate.index, family_survival_rate.values, color='skyblue')\n",
    "plt.title('Survival Rate by Family Size')\n",
    "plt.xlabel('Family Size')\n",
    "plt.ylabel('Survival Rate')\n",
    "plt.ylim(0, 1)\n",
    "plt.xticks(ticks=range(len(family_survival_rate.index)), labels=family_survival_rate.index)\n",
    "plt.show()"
   ]
  },
  {
   "cell_type": "markdown",
   "metadata": {},
   "source": [
    "1. I have chose this algorithm because it re-categorizes existing columns by merging the Parch & SibSp columns into one 'FamSize' which can be helpful in gathering data visualizations about groups, and instead of removing the age, I have decided to input the age median since removing them would affect the overall output of the data.\n",
    "\n",
    "2. \n",
    "   - The first data visual is the number of passengers from embarked cities. The data shows that majority of the passengers departed from Southampton, England (S) and the least number of passengers are from Queenstown, Ireland (Q). By confirming this data, the Titanic first embarked from Southampton, England and just provided stops from other two cities to fill the passengers. Since it was the location of the maiden voyage, it's natural that most of the passengers came from Southampton, England.\n",
    "\n",
    "   - The second data visual is the survival rate of family size. The family size is defined by summing the siblings & spouses (SibSp) and parents and children (Parch) since it was categorized as group of family. The data shows that a family of 3 of combined parents, siblings, children, and/or spouses has the highest survival rate while the family of 5 has the least survival rate. In that time, children, women, and the elderly people (sometimes including upper class) are prioritized by the lifeboats from the Titanic. The lower class often lefts out due to insufficient lifeboats resulting in the deaths of thousands of people."
   ]
  }
 ],
 "metadata": {
  "kernelspec": {
   "display_name": "Python 3",
   "language": "python",
   "name": "python3"
  },
  "language_info": {
   "codemirror_mode": {
    "name": "ipython",
    "version": 3
   },
   "file_extension": ".py",
   "mimetype": "text/x-python",
   "name": "python",
   "nbconvert_exporter": "python",
   "pygments_lexer": "ipython3",
   "version": "3.10.11"
  }
 },
 "nbformat": 4,
 "nbformat_minor": 2
}
